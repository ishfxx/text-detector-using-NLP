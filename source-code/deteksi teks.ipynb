{
 "cells": [
  {
   "cell_type": "markdown",
   "metadata": {},
   "source": [
    "# Import library dan Load Data"
   ]
  },
  {
   "cell_type": "code",
   "execution_count": 1,
   "metadata": {
    "id": "x1PQ_33rki5N"
   },
   "outputs": [
    {
     "ename": "ModuleNotFoundError",
     "evalue": "No module named 'numpy'",
     "output_type": "error",
     "traceback": [
      "\u001b[1;31m---------------------------------------------------------------------------\u001b[0m",
      "\u001b[1;31mModuleNotFoundError\u001b[0m                       Traceback (most recent call last)",
      "Cell \u001b[1;32mIn[1], line 1\u001b[0m\n\u001b[1;32m----> 1\u001b[0m \u001b[38;5;28;01mimport\u001b[39;00m \u001b[38;5;21;01mnumpy\u001b[39;00m \u001b[38;5;28;01mas\u001b[39;00m \u001b[38;5;21;01mnp\u001b[39;00m\n\u001b[0;32m      2\u001b[0m \u001b[38;5;28;01mimport\u001b[39;00m \u001b[38;5;21;01mpandas\u001b[39;00m \u001b[38;5;28;01mas\u001b[39;00m \u001b[38;5;21;01mpd\u001b[39;00m\n\u001b[0;32m      3\u001b[0m \u001b[38;5;28;01mimport\u001b[39;00m \u001b[38;5;21;01mtensorflow\u001b[39;00m \u001b[38;5;28;01mas\u001b[39;00m \u001b[38;5;21;01mtf\u001b[39;00m\n",
      "\u001b[1;31mModuleNotFoundError\u001b[0m: No module named 'numpy'"
     ]
    }
   ],
   "source": [
    "import numpy as np\n",
    "import pandas as pd\n",
    "import tensorflow as tf\n",
    "\n",
    "#for text pre-processing\n",
    "import re, string\n",
    "import nltk\n",
    "from nltk.tokenize import word_tokenize\n",
    "from nltk.corpus import stopwords\n",
    "from nltk.tokenize import word_tokenize\n",
    "from nltk.stem import SnowballStemmer\n",
    "from nltk.corpus import wordnet\n",
    "from nltk.stem import WordNetLemmatizer\n",
    "nltk.download('punkt')\n",
    "nltk.download('averaged_perceptron_tagger')\n",
    "nltk.download('wordnet')\n",
    "\n",
    "from sklearn.model_selection import train_test_split\n",
    "from tensorflow.keras.preprocessing.text import Tokenizer\n",
    "from tensorflow.keras.preprocessing.sequence import pad_sequences\n",
    "\n",
    "from sklearn.metrics import confusion_matrix, classification_report\n",
    "\n",
    "import matplotlib.pyplot as plt\n",
    "import seaborn as sns\n",
    "from sklearn.metrics import confusion_matrix"
   ]
  },
  {
   "cell_type": "code",
   "execution_count": 2,
   "metadata": {
    "colab": {
     "base_uri": "https://localhost:8080/",
     "height": 536
    },
    "id": "FQGAbie1lbeN",
    "outputId": "86914bf9-1d5f-46fa-b186-1af96d160ed0"
   },
   "outputs": [
    {
     "data": {
      "text/html": [
       "<div>\n",
       "<style scoped>\n",
       "    .dataframe tbody tr th:only-of-type {\n",
       "        vertical-align: middle;\n",
       "    }\n",
       "\n",
       "    .dataframe tbody tr th {\n",
       "        vertical-align: top;\n",
       "    }\n",
       "\n",
       "    .dataframe thead th {\n",
       "        text-align: right;\n",
       "    }\n",
       "</style>\n",
       "<table border=\"1\" class=\"dataframe\">\n",
       "  <thead>\n",
       "    <tr style=\"text-align: right;\">\n",
       "      <th></th>\n",
       "      <th>date</th>\n",
       "      <th>url</th>\n",
       "      <th>title</th>\n",
       "      <th>category</th>\n",
       "    </tr>\n",
       "  </thead>\n",
       "  <tbody>\n",
       "    <tr>\n",
       "      <th>0</th>\n",
       "      <td>02/26/2020</td>\n",
       "      <td>https://finance.detik.com/berita-ekonomi-bisni...</td>\n",
       "      <td>Kemnaker Awasi TKA di Meikarta</td>\n",
       "      <td>finance</td>\n",
       "    </tr>\n",
       "    <tr>\n",
       "      <th>1</th>\n",
       "      <td>02/26/2020</td>\n",
       "      <td>https://finance.detik.com/berita-ekonomi-bisni...</td>\n",
       "      <td>BNI Digitalkan BNI Java Jazz 2020</td>\n",
       "      <td>finance</td>\n",
       "    </tr>\n",
       "    <tr>\n",
       "      <th>2</th>\n",
       "      <td>02/26/2020</td>\n",
       "      <td>https://finance.detik.com/berita-ekonomi-bisni...</td>\n",
       "      <td>Terbang ke Australia, Edhy Prabowo Mau Genjot ...</td>\n",
       "      <td>finance</td>\n",
       "    </tr>\n",
       "    <tr>\n",
       "      <th>3</th>\n",
       "      <td>02/26/2020</td>\n",
       "      <td>https://finance.detik.com/moneter/d-4916133/oj...</td>\n",
       "      <td>OJK Siapkan Stimulus Ekonomi Antisipasi Dampak...</td>\n",
       "      <td>finance</td>\n",
       "    </tr>\n",
       "    <tr>\n",
       "      <th>4</th>\n",
       "      <td>02/26/2020</td>\n",
       "      <td>https://finance.detik.com/berita-ekonomi-bisni...</td>\n",
       "      <td>Saran Buat Anies-RK yang Mangkir Rapat Banjir ...</td>\n",
       "      <td>finance</td>\n",
       "    </tr>\n",
       "    <tr>\n",
       "      <th>5</th>\n",
       "      <td>02/26/2020</td>\n",
       "      <td>https://finance.detik.com/berita-ekonomi-bisni...</td>\n",
       "      <td>RI Bakal Punya Destinasi Wisata Sejarah Islam ...</td>\n",
       "      <td>finance</td>\n",
       "    </tr>\n",
       "    <tr>\n",
       "      <th>6</th>\n",
       "      <td>02/26/2020</td>\n",
       "      <td>https://finance.detik.com/perencanaan-keuangan...</td>\n",
       "      <td>Cara Biar Nggak Tertipu Travel Umrah Abal-abal...</td>\n",
       "      <td>finance</td>\n",
       "    </tr>\n",
       "    <tr>\n",
       "      <th>7</th>\n",
       "      <td>02/26/2020</td>\n",
       "      <td>https://finance.detik.com/berita-ekonomi-bisni...</td>\n",
       "      <td>DPR Kritik Cara Anies Atasi Banjir, Pesan Kera...</td>\n",
       "      <td>finance</td>\n",
       "    </tr>\n",
       "    <tr>\n",
       "      <th>8</th>\n",
       "      <td>02/26/2020</td>\n",
       "      <td>https://finance.detik.com/moneter/d-4916086/ja...</td>\n",
       "      <td>Jadi Korban Gagal Bayar Asuransi? Bisa Mengadu...</td>\n",
       "      <td>finance</td>\n",
       "    </tr>\n",
       "    <tr>\n",
       "      <th>9</th>\n",
       "      <td>02/26/2020</td>\n",
       "      <td>https://finance.detik.com/berita-ekonomi-bisni...</td>\n",
       "      <td>Erick Thohir: BUMN Bukan Badan Usaha Milik Nen...</td>\n",
       "      <td>finance</td>\n",
       "    </tr>\n",
       "  </tbody>\n",
       "</table>\n",
       "</div>"
      ],
      "text/plain": [
       "         date                                                url  \\\n",
       "0  02/26/2020  https://finance.detik.com/berita-ekonomi-bisni...   \n",
       "1  02/26/2020  https://finance.detik.com/berita-ekonomi-bisni...   \n",
       "2  02/26/2020  https://finance.detik.com/berita-ekonomi-bisni...   \n",
       "3  02/26/2020  https://finance.detik.com/moneter/d-4916133/oj...   \n",
       "4  02/26/2020  https://finance.detik.com/berita-ekonomi-bisni...   \n",
       "5  02/26/2020  https://finance.detik.com/berita-ekonomi-bisni...   \n",
       "6  02/26/2020  https://finance.detik.com/perencanaan-keuangan...   \n",
       "7  02/26/2020  https://finance.detik.com/berita-ekonomi-bisni...   \n",
       "8  02/26/2020  https://finance.detik.com/moneter/d-4916086/ja...   \n",
       "9  02/26/2020  https://finance.detik.com/berita-ekonomi-bisni...   \n",
       "\n",
       "                                               title category  \n",
       "0                     Kemnaker Awasi TKA di Meikarta  finance  \n",
       "1                  BNI Digitalkan BNI Java Jazz 2020  finance  \n",
       "2  Terbang ke Australia, Edhy Prabowo Mau Genjot ...  finance  \n",
       "3  OJK Siapkan Stimulus Ekonomi Antisipasi Dampak...  finance  \n",
       "4  Saran Buat Anies-RK yang Mangkir Rapat Banjir ...  finance  \n",
       "5  RI Bakal Punya Destinasi Wisata Sejarah Islam ...  finance  \n",
       "6  Cara Biar Nggak Tertipu Travel Umrah Abal-abal...  finance  \n",
       "7  DPR Kritik Cara Anies Atasi Banjir, Pesan Kera...  finance  \n",
       "8  Jadi Korban Gagal Bayar Asuransi? Bisa Mengadu...  finance  \n",
       "9  Erick Thohir: BUMN Bukan Badan Usaha Milik Nen...  finance  "
      ]
     },
     "execution_count": 2,
     "metadata": {},
     "output_type": "execute_result"
    }
   ],
   "source": [
    "df = pd.read_csv('indonesian-news-title.csv')\n",
    "df.head(10)"
   ]
  },
  {
   "cell_type": "markdown",
   "metadata": {},
   "source": [
    "# EDA dan Prepos Data"
   ]
  },
  {
   "cell_type": "code",
   "execution_count": 3,
   "metadata": {},
   "outputs": [
    {
     "data": {
      "text/plain": [
       "array(['finance', 'food', 'health', 'hot', 'inet', 'news', 'oto', 'sport',\n",
       "       'travel'], dtype=object)"
      ]
     },
     "execution_count": 3,
     "metadata": {},
     "output_type": "execute_result"
    }
   ],
   "source": [
    "df.category.unique()"
   ]
  },
  {
   "cell_type": "code",
   "execution_count": 4,
   "metadata": {
    "scrolled": true
   },
   "outputs": [
    {
     "data": {
      "text/html": [
       "<div>\n",
       "<style scoped>\n",
       "    .dataframe tbody tr th:only-of-type {\n",
       "        vertical-align: middle;\n",
       "    }\n",
       "\n",
       "    .dataframe tbody tr th {\n",
       "        vertical-align: top;\n",
       "    }\n",
       "\n",
       "    .dataframe thead th {\n",
       "        text-align: right;\n",
       "    }\n",
       "</style>\n",
       "<table border=\"1\" class=\"dataframe\">\n",
       "  <thead>\n",
       "    <tr style=\"text-align: right;\">\n",
       "      <th></th>\n",
       "      <th>topic</th>\n",
       "      <th>title</th>\n",
       "    </tr>\n",
       "  </thead>\n",
       "  <tbody>\n",
       "    <tr>\n",
       "      <th>0</th>\n",
       "      <td>finance</td>\n",
       "      <td>Kemnaker Awasi TKA di Meikarta</td>\n",
       "    </tr>\n",
       "    <tr>\n",
       "      <th>1</th>\n",
       "      <td>finance</td>\n",
       "      <td>BNI Digitalkan BNI Java Jazz 2020</td>\n",
       "    </tr>\n",
       "    <tr>\n",
       "      <th>2</th>\n",
       "      <td>finance</td>\n",
       "      <td>Terbang ke Australia, Edhy Prabowo Mau Genjot ...</td>\n",
       "    </tr>\n",
       "    <tr>\n",
       "      <th>3</th>\n",
       "      <td>finance</td>\n",
       "      <td>OJK Siapkan Stimulus Ekonomi Antisipasi Dampak...</td>\n",
       "    </tr>\n",
       "    <tr>\n",
       "      <th>4</th>\n",
       "      <td>finance</td>\n",
       "      <td>Saran Buat Anies-RK yang Mangkir Rapat Banjir ...</td>\n",
       "    </tr>\n",
       "    <tr>\n",
       "      <th>...</th>\n",
       "      <td>...</td>\n",
       "      <td>...</td>\n",
       "    </tr>\n",
       "    <tr>\n",
       "      <th>84546</th>\n",
       "      <td>sport</td>\n",
       "      <td>Untuk Urusan Gaji, Ter Stegen Belum Bisa Samai...</td>\n",
       "    </tr>\n",
       "    <tr>\n",
       "      <th>84547</th>\n",
       "      <td>sport</td>\n",
       "      <td>Video Stadion Sepakbola di Dunia Beralih Fungs...</td>\n",
       "    </tr>\n",
       "    <tr>\n",
       "      <th>84548</th>\n",
       "      <td>sport</td>\n",
       "      <td>Olimpiade 2020 Ditunda, Hendra Setiawan Berjua...</td>\n",
       "    </tr>\n",
       "    <tr>\n",
       "      <th>84549</th>\n",
       "      <td>sport</td>\n",
       "      <td>Wimbledon 2020 Terancam Batal, Panitia Rapat D...</td>\n",
       "    </tr>\n",
       "    <tr>\n",
       "      <th>84550</th>\n",
       "      <td>sport</td>\n",
       "      <td>Sempat Bertemu Pangeran Charles, Anthony Joshu...</td>\n",
       "    </tr>\n",
       "  </tbody>\n",
       "</table>\n",
       "<p>21523 rows × 2 columns</p>\n",
       "</div>"
      ],
      "text/plain": [
       "         topic                                              title\n",
       "0      finance                     Kemnaker Awasi TKA di Meikarta\n",
       "1      finance                  BNI Digitalkan BNI Java Jazz 2020\n",
       "2      finance  Terbang ke Australia, Edhy Prabowo Mau Genjot ...\n",
       "3      finance  OJK Siapkan Stimulus Ekonomi Antisipasi Dampak...\n",
       "4      finance  Saran Buat Anies-RK yang Mangkir Rapat Banjir ...\n",
       "...        ...                                                ...\n",
       "84546    sport  Untuk Urusan Gaji, Ter Stegen Belum Bisa Samai...\n",
       "84547    sport  Video Stadion Sepakbola di Dunia Beralih Fungs...\n",
       "84548    sport  Olimpiade 2020 Ditunda, Hendra Setiawan Berjua...\n",
       "84549    sport  Wimbledon 2020 Terancam Batal, Panitia Rapat D...\n",
       "84550    sport  Sempat Bertemu Pangeran Charles, Anthony Joshu...\n",
       "\n",
       "[21523 rows x 2 columns]"
      ]
     },
     "execution_count": 4,
     "metadata": {},
     "output_type": "execute_result"
    }
   ],
   "source": [
    "#mengambil data dengan topic finance, health dan sport\n",
    "data=df[df[\"category\"].isin(['finance','health','sport'])]\n",
    "#drop columns\n",
    "df = data[['category','title']]\n",
    "# mengganti nama kolom\n",
    "df.columns=['topic','title']\n",
    "df"
   ]
  },
  {
   "cell_type": "code",
   "execution_count": 5,
   "metadata": {
    "colab": {
     "base_uri": "https://localhost:8080/",
     "height": 536
    },
    "id": "pDjelNu0iCsf",
    "outputId": "8501d8c0-d429-4c28-be1f-0d75e1896ed2"
   },
   "outputs": [
    {
     "data": {
      "text/html": [
       "<div>\n",
       "<style scoped>\n",
       "    .dataframe tbody tr th:only-of-type {\n",
       "        vertical-align: middle;\n",
       "    }\n",
       "\n",
       "    .dataframe tbody tr th {\n",
       "        vertical-align: top;\n",
       "    }\n",
       "\n",
       "    .dataframe thead th {\n",
       "        text-align: right;\n",
       "    }\n",
       "</style>\n",
       "<table border=\"1\" class=\"dataframe\">\n",
       "  <thead>\n",
       "    <tr style=\"text-align: right;\">\n",
       "      <th></th>\n",
       "      <th>topic</th>\n",
       "      <th>title</th>\n",
       "    </tr>\n",
       "  </thead>\n",
       "  <tbody>\n",
       "    <tr>\n",
       "      <th>84541</th>\n",
       "      <td>sport</td>\n",
       "      <td>Sempat Khawatir, Herry IP Relaks karena Negati...</td>\n",
       "    </tr>\n",
       "    <tr>\n",
       "      <th>84542</th>\n",
       "      <td>sport</td>\n",
       "      <td>Untung Rugi Penundaan Olimpiade Kata Coach Nag...</td>\n",
       "    </tr>\n",
       "    <tr>\n",
       "      <th>84543</th>\n",
       "      <td>sport</td>\n",
       "      <td>Melihat Lagi Saat Nouri Mengalami Kerusakan Ot...</td>\n",
       "    </tr>\n",
       "    <tr>\n",
       "      <th>84544</th>\n",
       "      <td>sport</td>\n",
       "      <td>Gaji Messi cs Dipotong Buntut Pandemi Corona</td>\n",
       "    </tr>\n",
       "    <tr>\n",
       "      <th>84545</th>\n",
       "      <td>sport</td>\n",
       "      <td>Hikmah Di Rumah Saja, Herry IP Jadi Lebih Mesr...</td>\n",
       "    </tr>\n",
       "    <tr>\n",
       "      <th>84546</th>\n",
       "      <td>sport</td>\n",
       "      <td>Untuk Urusan Gaji, Ter Stegen Belum Bisa Samai...</td>\n",
       "    </tr>\n",
       "    <tr>\n",
       "      <th>84547</th>\n",
       "      <td>sport</td>\n",
       "      <td>Video Stadion Sepakbola di Dunia Beralih Fungs...</td>\n",
       "    </tr>\n",
       "    <tr>\n",
       "      <th>84548</th>\n",
       "      <td>sport</td>\n",
       "      <td>Olimpiade 2020 Ditunda, Hendra Setiawan Berjua...</td>\n",
       "    </tr>\n",
       "    <tr>\n",
       "      <th>84549</th>\n",
       "      <td>sport</td>\n",
       "      <td>Wimbledon 2020 Terancam Batal, Panitia Rapat D...</td>\n",
       "    </tr>\n",
       "    <tr>\n",
       "      <th>84550</th>\n",
       "      <td>sport</td>\n",
       "      <td>Sempat Bertemu Pangeran Charles, Anthony Joshu...</td>\n",
       "    </tr>\n",
       "  </tbody>\n",
       "</table>\n",
       "</div>"
      ],
      "text/plain": [
       "       topic                                              title\n",
       "84541  sport  Sempat Khawatir, Herry IP Relaks karena Negati...\n",
       "84542  sport  Untung Rugi Penundaan Olimpiade Kata Coach Nag...\n",
       "84543  sport  Melihat Lagi Saat Nouri Mengalami Kerusakan Ot...\n",
       "84544  sport       Gaji Messi cs Dipotong Buntut Pandemi Corona\n",
       "84545  sport  Hikmah Di Rumah Saja, Herry IP Jadi Lebih Mesr...\n",
       "84546  sport  Untuk Urusan Gaji, Ter Stegen Belum Bisa Samai...\n",
       "84547  sport  Video Stadion Sepakbola di Dunia Beralih Fungs...\n",
       "84548  sport  Olimpiade 2020 Ditunda, Hendra Setiawan Berjua...\n",
       "84549  sport  Wimbledon 2020 Terancam Batal, Panitia Rapat D...\n",
       "84550  sport  Sempat Bertemu Pangeran Charles, Anthony Joshu..."
      ]
     },
     "execution_count": 5,
     "metadata": {},
     "output_type": "execute_result"
    }
   ],
   "source": [
    "df.tail(10)"
   ]
  },
  {
   "cell_type": "code",
   "execution_count": 6,
   "metadata": {
    "colab": {
     "base_uri": "https://localhost:8080/"
    },
    "id": "XtzIWSiQoBz3",
    "outputId": "dd3e0ba9-aef8-4d21-9610-72ab61e1a664"
   },
   "outputs": [
    {
     "name": "stdout",
     "output_type": "stream",
     "text": [
      "<class 'pandas.core.frame.DataFrame'>\n",
      "Index: 21523 entries, 0 to 84550\n",
      "Data columns (total 2 columns):\n",
      " #   Column  Non-Null Count  Dtype \n",
      "---  ------  --------------  ----- \n",
      " 0   topic   21523 non-null  object\n",
      " 1   title   21523 non-null  object\n",
      "dtypes: object(2)\n",
      "memory usage: 504.4+ KB\n"
     ]
    }
   ],
   "source": [
    "df.info()"
   ]
  },
  {
   "cell_type": "code",
   "execution_count": 7,
   "metadata": {
    "id": "mo9IPLEgoIl-"
   },
   "outputs": [],
   "source": [
    "df1 = df.dropna()"
   ]
  },
  {
   "cell_type": "code",
   "execution_count": 8,
   "metadata": {
    "colab": {
     "base_uri": "https://localhost:8080/",
     "height": 597
    },
    "id": "ncqcruwdoVIG",
    "outputId": "ba613243-c995-4479-8d50-fb074b8d1fc9"
   },
   "outputs": [
    {
     "data": {
      "text/html": [
       "<div>\n",
       "<style scoped>\n",
       "    .dataframe tbody tr th:only-of-type {\n",
       "        vertical-align: middle;\n",
       "    }\n",
       "\n",
       "    .dataframe tbody tr th {\n",
       "        vertical-align: top;\n",
       "    }\n",
       "\n",
       "    .dataframe thead th {\n",
       "        text-align: right;\n",
       "    }\n",
       "</style>\n",
       "<table border=\"1\" class=\"dataframe\">\n",
       "  <thead>\n",
       "    <tr style=\"text-align: right;\">\n",
       "      <th></th>\n",
       "      <th>topic</th>\n",
       "      <th>title</th>\n",
       "    </tr>\n",
       "  </thead>\n",
       "  <tbody>\n",
       "    <tr>\n",
       "      <th>0</th>\n",
       "      <td>finance</td>\n",
       "      <td>Kemnaker Awasi TKA di Meikarta</td>\n",
       "    </tr>\n",
       "    <tr>\n",
       "      <th>1</th>\n",
       "      <td>finance</td>\n",
       "      <td>BNI Digitalkan BNI Java Jazz 2020</td>\n",
       "    </tr>\n",
       "    <tr>\n",
       "      <th>2</th>\n",
       "      <td>finance</td>\n",
       "      <td>Terbang ke Australia, Edhy Prabowo Mau Genjot ...</td>\n",
       "    </tr>\n",
       "    <tr>\n",
       "      <th>3</th>\n",
       "      <td>finance</td>\n",
       "      <td>OJK Siapkan Stimulus Ekonomi Antisipasi Dampak...</td>\n",
       "    </tr>\n",
       "    <tr>\n",
       "      <th>4</th>\n",
       "      <td>finance</td>\n",
       "      <td>Saran Buat Anies-RK yang Mangkir Rapat Banjir ...</td>\n",
       "    </tr>\n",
       "    <tr>\n",
       "      <th>...</th>\n",
       "      <td>...</td>\n",
       "      <td>...</td>\n",
       "    </tr>\n",
       "    <tr>\n",
       "      <th>84546</th>\n",
       "      <td>sport</td>\n",
       "      <td>Untuk Urusan Gaji, Ter Stegen Belum Bisa Samai...</td>\n",
       "    </tr>\n",
       "    <tr>\n",
       "      <th>84547</th>\n",
       "      <td>sport</td>\n",
       "      <td>Video Stadion Sepakbola di Dunia Beralih Fungs...</td>\n",
       "    </tr>\n",
       "    <tr>\n",
       "      <th>84548</th>\n",
       "      <td>sport</td>\n",
       "      <td>Olimpiade 2020 Ditunda, Hendra Setiawan Berjua...</td>\n",
       "    </tr>\n",
       "    <tr>\n",
       "      <th>84549</th>\n",
       "      <td>sport</td>\n",
       "      <td>Wimbledon 2020 Terancam Batal, Panitia Rapat D...</td>\n",
       "    </tr>\n",
       "    <tr>\n",
       "      <th>84550</th>\n",
       "      <td>sport</td>\n",
       "      <td>Sempat Bertemu Pangeran Charles, Anthony Joshu...</td>\n",
       "    </tr>\n",
       "  </tbody>\n",
       "</table>\n",
       "<p>21523 rows × 2 columns</p>\n",
       "</div>"
      ],
      "text/plain": [
       "         topic                                              title\n",
       "0      finance                     Kemnaker Awasi TKA di Meikarta\n",
       "1      finance                  BNI Digitalkan BNI Java Jazz 2020\n",
       "2      finance  Terbang ke Australia, Edhy Prabowo Mau Genjot ...\n",
       "3      finance  OJK Siapkan Stimulus Ekonomi Antisipasi Dampak...\n",
       "4      finance  Saran Buat Anies-RK yang Mangkir Rapat Banjir ...\n",
       "...        ...                                                ...\n",
       "84546    sport  Untuk Urusan Gaji, Ter Stegen Belum Bisa Samai...\n",
       "84547    sport  Video Stadion Sepakbola di Dunia Beralih Fungs...\n",
       "84548    sport  Olimpiade 2020 Ditunda, Hendra Setiawan Berjua...\n",
       "84549    sport  Wimbledon 2020 Terancam Batal, Panitia Rapat D...\n",
       "84550    sport  Sempat Bertemu Pangeran Charles, Anthony Joshu...\n",
       "\n",
       "[21523 rows x 2 columns]"
      ]
     },
     "execution_count": 8,
     "metadata": {},
     "output_type": "execute_result"
    }
   ],
   "source": [
    "df1"
   ]
  },
  {
   "cell_type": "code",
   "execution_count": 9,
   "metadata": {},
   "outputs": [],
   "source": [
    "#convert to lowercase, strip and remove punctuations\n",
    "def preprocess(text):\n",
    "    text = text.lower()\n",
    "    text=text.strip()\n",
    "    text=re.compile('<.*?>').sub('', text)\n",
    "    text = re.compile('[%s]' % re.escape(string.punctuation)).sub(' ', text)\n",
    "    text = re.sub('\\s+', ' ', text)\n",
    "    text = re.sub(r'\\[[0-9]*\\]',' ',text)\n",
    "    text=re.sub(r'[^\\w\\s]', '', str(text).lower().strip())\n",
    "    text = re.sub(r'\\d',' ',text)\n",
    "    text = re.sub(r'\\s+',' ',text)\n",
    "    return text\n",
    "\n",
    "\n",
    "# STOPWORD REMOVAL\n",
    "def stopword(string):\n",
    "    a= [i for i in string.split() if i not in stopwords.words('english')]\n",
    "    return ' '.join(a)\n",
    "\n",
    "#LEMMATIZATION\n",
    "# Initialize the lemmatizer\n",
    "wl = WordNetLemmatizer()\n",
    "\n",
    "# This is a helper function to map NTLK position tags\n",
    "def get_wordnet_pos(tag):\n",
    "    if tag.startswith('J'):\n",
    "        return wordnet.ADJ\n",
    "    elif tag.startswith('V'):\n",
    "        return wordnet.VERB\n",
    "    elif tag.startswith('N'):\n",
    "        return wordnet.NOUN\n",
    "    elif tag.startswith('R'):\n",
    "        return wordnet.ADV\n",
    "    else:\n",
    "        return wordnet.NOUN\n",
    "# Tokenize the sentence\n",
    "def lemmatizer(string):\n",
    "    word_pos_tags = nltk.pos_tag(word_tokenize(string)) # Get position tags\n",
    "    a=[wl.lemmatize(tag[0], get_wordnet_pos(tag[1])) for idx, tag in enumerate(word_pos_tags)] # Map the position tag and lemmatize the word/token\n",
    "    return \" \".join(a)"
   ]
  },
  {
   "cell_type": "code",
   "execution_count": 10,
   "metadata": {},
   "outputs": [
    {
     "name": "stderr",
     "output_type": "stream",
     "text": [
      "C:\\Users\\ASUS\\AppData\\Local\\Temp\\ipykernel_3676\\1583990761.py:3: SettingWithCopyWarning: \n",
      "A value is trying to be set on a copy of a slice from a DataFrame.\n",
      "Try using .loc[row_indexer,col_indexer] = value instead\n",
      "\n",
      "See the caveats in the documentation: https://pandas.pydata.org/pandas-docs/stable/user_guide/indexing.html#returning-a-view-versus-a-copy\n",
      "  df['clean_text'] = df1['title'].apply(lambda x: finalpreprocess(x))\n"
     ]
    },
    {
     "data": {
      "text/html": [
       "<div>\n",
       "<style scoped>\n",
       "    .dataframe tbody tr th:only-of-type {\n",
       "        vertical-align: middle;\n",
       "    }\n",
       "\n",
       "    .dataframe tbody tr th {\n",
       "        vertical-align: top;\n",
       "    }\n",
       "\n",
       "    .dataframe thead th {\n",
       "        text-align: right;\n",
       "    }\n",
       "</style>\n",
       "<table border=\"1\" class=\"dataframe\">\n",
       "  <thead>\n",
       "    <tr style=\"text-align: right;\">\n",
       "      <th></th>\n",
       "      <th>topic</th>\n",
       "      <th>title</th>\n",
       "      <th>clean_text</th>\n",
       "    </tr>\n",
       "  </thead>\n",
       "  <tbody>\n",
       "    <tr>\n",
       "      <th>0</th>\n",
       "      <td>finance</td>\n",
       "      <td>Kemnaker Awasi TKA di Meikarta</td>\n",
       "      <td>kemnaker awasi tka di meikarta</td>\n",
       "    </tr>\n",
       "    <tr>\n",
       "      <th>1</th>\n",
       "      <td>finance</td>\n",
       "      <td>BNI Digitalkan BNI Java Jazz 2020</td>\n",
       "      <td>bni digitalkan bni java jazz</td>\n",
       "    </tr>\n",
       "    <tr>\n",
       "      <th>2</th>\n",
       "      <td>finance</td>\n",
       "      <td>Terbang ke Australia, Edhy Prabowo Mau Genjot ...</td>\n",
       "      <td>terbang ke australia edhy prabowo mau genjot b...</td>\n",
       "    </tr>\n",
       "    <tr>\n",
       "      <th>3</th>\n",
       "      <td>finance</td>\n",
       "      <td>OJK Siapkan Stimulus Ekonomi Antisipasi Dampak...</td>\n",
       "      <td>ojk siapkan stimulus ekonomi antisipasi dampak...</td>\n",
       "    </tr>\n",
       "    <tr>\n",
       "      <th>4</th>\n",
       "      <td>finance</td>\n",
       "      <td>Saran Buat Anies-RK yang Mangkir Rapat Banjir ...</td>\n",
       "      <td>saran buat anies rk yang mangkir rapat banjir ...</td>\n",
       "    </tr>\n",
       "  </tbody>\n",
       "</table>\n",
       "</div>"
      ],
      "text/plain": [
       "     topic                                              title  \\\n",
       "0  finance                     Kemnaker Awasi TKA di Meikarta   \n",
       "1  finance                  BNI Digitalkan BNI Java Jazz 2020   \n",
       "2  finance  Terbang ke Australia, Edhy Prabowo Mau Genjot ...   \n",
       "3  finance  OJK Siapkan Stimulus Ekonomi Antisipasi Dampak...   \n",
       "4  finance  Saran Buat Anies-RK yang Mangkir Rapat Banjir ...   \n",
       "\n",
       "                                          clean_text  \n",
       "0                     kemnaker awasi tka di meikarta  \n",
       "1                       bni digitalkan bni java jazz  \n",
       "2  terbang ke australia edhy prabowo mau genjot b...  \n",
       "3  ojk siapkan stimulus ekonomi antisipasi dampak...  \n",
       "4  saran buat anies rk yang mangkir rapat banjir ...  "
      ]
     },
     "execution_count": 10,
     "metadata": {},
     "output_type": "execute_result"
    }
   ],
   "source": [
    "def finalpreprocess(string):\n",
    "    return lemmatizer(stopword(preprocess(string)))\n",
    "df['clean_text'] = df1['title'].apply(lambda x: finalpreprocess(x))\n",
    "df.head()"
   ]
  },
  {
   "cell_type": "markdown",
   "metadata": {},
   "source": [
    "# Model"
   ]
  },
  {
   "cell_type": "code",
   "execution_count": 11,
   "metadata": {},
   "outputs": [],
   "source": [
    "# Memisahkan data dan label\n",
    "texts = df['clean_text'].values\n",
    "labels = df['topic'].values\n",
    "\n",
    "# Membagi data menjadi train dan test\n",
    "train_texts, test_texts, train_labels, test_labels = train_test_split(texts, labels, test_size=0.2, random_state=42)"
   ]
  },
  {
   "cell_type": "code",
   "execution_count": 12,
   "metadata": {},
   "outputs": [],
   "source": [
    "# Tokenisasi teks\n",
    "tokenizer = Tokenizer(num_words=10000)\n",
    "tokenizer.fit_on_texts(train_texts)\n",
    "\n",
    "train_sequences = tokenizer.texts_to_sequences(train_texts)\n",
    "test_sequences = tokenizer.texts_to_sequences(test_texts)\n",
    "\n",
    "# Padding sequences\n",
    "max_length = 200\n",
    "train_padded = pad_sequences(train_sequences, maxlen=max_length)\n",
    "test_padded = pad_sequences(test_sequences, maxlen=max_length)"
   ]
  },
  {
   "cell_type": "code",
   "execution_count": 13,
   "metadata": {},
   "outputs": [],
   "source": [
    "from sklearn.preprocessing import LabelEncoder\n",
    "from tensorflow.keras.utils import to_categorical\n",
    "\n",
    "# Mengubah label menjadi angka\n",
    "label_encoder = LabelEncoder()\n",
    "train_labels_encoded = label_encoder.fit_transform(train_labels)\n",
    "test_labels_encoded = label_encoder.transform(test_labels)\n",
    "\n",
    "# Mengubah label menjadi one-hot encoding\n",
    "train_labels_categorical = to_categorical(train_labels_encoded)\n",
    "test_labels_categorical = to_categorical(test_labels_encoded)\n"
   ]
  },
  {
   "cell_type": "code",
   "execution_count": 14,
   "metadata": {},
   "outputs": [
    {
     "name": "stdout",
     "output_type": "stream",
     "text": [
      "Model: \"sequential\"\n",
      "_________________________________________________________________\n",
      " Layer (type)                Output Shape              Param #   \n",
      "=================================================================\n",
      " embedding (Embedding)       (None, 200, 128)          1280000   \n",
      "                                                                 \n",
      " lstm (LSTM)                 (None, 200, 64)           49408     \n",
      "                                                                 \n",
      " dropout (Dropout)           (None, 200, 64)           0         \n",
      "                                                                 \n",
      " lstm_1 (LSTM)               (None, 64)                33024     \n",
      "                                                                 \n",
      " dropout_1 (Dropout)         (None, 64)                0         \n",
      "                                                                 \n",
      " dense (Dense)               (None, 3)                 195       \n",
      "                                                                 \n",
      "=================================================================\n",
      "Total params: 1362627 (5.20 MB)\n",
      "Trainable params: 1362627 (5.20 MB)\n",
      "Non-trainable params: 0 (0.00 Byte)\n",
      "_________________________________________________________________\n"
     ]
    }
   ],
   "source": [
    "from tensorflow.keras.models import Sequential\n",
    "from tensorflow.keras.layers import Embedding, LSTM, Dense, Dropout\n",
    "\n",
    "# Membangun model\n",
    "model = Sequential()\n",
    "model.add(Embedding(input_dim=10000, output_dim=128, input_length=max_length))\n",
    "model.add(LSTM(64, return_sequences=True))\n",
    "model.add(Dropout(0.5))\n",
    "model.add(LSTM(64))\n",
    "model.add(Dropout(0.5))\n",
    "model.add(Dense(3, activation='softmax'))\n",
    "\n",
    "# Kompilasi model\n",
    "model.compile(loss='categorical_crossentropy', optimizer='adam', metrics=['accuracy'])\n",
    "\n",
    "model.summary()"
   ]
  },
  {
   "cell_type": "code",
   "execution_count": 15,
   "metadata": {},
   "outputs": [
    {
     "name": "stdout",
     "output_type": "stream",
     "text": [
      "Epoch 1/10\n",
      "122/122 [==============================] - 60s 472ms/step - loss: 0.5105 - accuracy: 0.7991 - val_loss: 0.1466 - val_accuracy: 0.9518\n",
      "Epoch 2/10\n",
      "122/122 [==============================] - 58s 472ms/step - loss: 0.0903 - accuracy: 0.9713 - val_loss: 0.1201 - val_accuracy: 0.9617\n",
      "Epoch 3/10\n",
      "122/122 [==============================] - 62s 505ms/step - loss: 0.0342 - accuracy: 0.9903 - val_loss: 0.1285 - val_accuracy: 0.9570\n",
      "Epoch 4/10\n",
      "122/122 [==============================] - 59s 485ms/step - loss: 0.0194 - accuracy: 0.9946 - val_loss: 0.1562 - val_accuracy: 0.9617\n",
      "Epoch 5/10\n",
      "122/122 [==============================] - 53s 434ms/step - loss: 0.0138 - accuracy: 0.9955 - val_loss: 0.1521 - val_accuracy: 0.9582\n",
      "Epoch 6/10\n",
      "122/122 [==============================] - 54s 444ms/step - loss: 0.0176 - accuracy: 0.9947 - val_loss: 0.1924 - val_accuracy: 0.9570\n",
      "Epoch 7/10\n",
      "122/122 [==============================] - 58s 476ms/step - loss: 0.0061 - accuracy: 0.9986 - val_loss: 0.1988 - val_accuracy: 0.9588\n",
      "Epoch 8/10\n",
      "122/122 [==============================] - 54s 443ms/step - loss: 0.0059 - accuracy: 0.9986 - val_loss: 0.2308 - val_accuracy: 0.9547\n",
      "Epoch 9/10\n",
      "122/122 [==============================] - 54s 441ms/step - loss: 0.0031 - accuracy: 0.9994 - val_loss: 0.2132 - val_accuracy: 0.9547\n",
      "Epoch 10/10\n",
      "122/122 [==============================] - 54s 439ms/step - loss: 0.0031 - accuracy: 0.9992 - val_loss: 0.2266 - val_accuracy: 0.9588\n"
     ]
    }
   ],
   "source": [
    "# Melatih model\n",
    "history = model.fit(train_padded, train_labels_categorical, epochs=10, batch_size=128, validation_split=0.1)"
   ]
  },
  {
   "cell_type": "code",
   "execution_count": 16,
   "metadata": {},
   "outputs": [
    {
     "name": "stdout",
     "output_type": "stream",
     "text": [
      "135/135 [==============================] - 4s 29ms/step - loss: 0.2470 - accuracy: 0.9573\n",
      "Test Loss: 0.2470293641090393\n",
      "Test Accuracy: 0.9572589993476868\n",
      "135/135 [==============================] - 4s 28ms/step\n"
     ]
    }
   ],
   "source": [
    "# Evaluasi model\n",
    "loss, accuracy = model.evaluate(test_padded, test_labels_categorical)\n",
    "print(f'Test Loss: {loss}')\n",
    "print(f'Test Accuracy: {accuracy}')\n",
    "\n",
    "# Prediksi pada data pengujian\n",
    "predictions = model.predict(test_padded)\n",
    "predictions_labels = np.argmax(predictions, axis=1)\n",
    "test_labels_labels = np.argmax(test_labels_categorical, axis=1)"
   ]
  },
  {
   "cell_type": "code",
   "execution_count": 18,
   "metadata": {},
   "outputs": [
    {
     "name": "stdout",
     "output_type": "stream",
     "text": [
      "              precision    recall  f1-score   support\n",
      "\n",
      "     finance       0.96      0.98      0.97      2862\n",
      "      health       0.93      0.91      0.92       963\n",
      "       sport       0.96      0.90      0.93       480\n",
      "\n",
      "    accuracy                           0.96      4305\n",
      "   macro avg       0.95      0.93      0.94      4305\n",
      "weighted avg       0.96      0.96      0.96      4305\n",
      "\n"
     ]
    }
   ],
   "source": [
    "# Classification report\n",
    "report = classification_report(test_labels_labels, predictions_labels, target_names=label_encoder.classes_)\n",
    "print(report)"
   ]
  },
  {
   "cell_type": "markdown",
   "metadata": {},
   "source": [
    "# Deteksi teks"
   ]
  },
  {
   "cell_type": "code",
   "execution_count": 24,
   "metadata": {},
   "outputs": [],
   "source": [
    "# Fungsi untuk memprediksi kategori dari teks baru\n",
    "def predict_topic(text, model, tokenizer, label_encoder, max_length):\n",
    "    # Tokenisasi teks\n",
    "    sequence = tokenizer.texts_to_sequences([text])\n",
    "    padded_sequence = pad_sequences(sequence, maxlen=max_length)\n",
    "    # Prediksi\n",
    "    prediction = model.predict(padded_sequence)\n",
    "    predicted_label = label_encoder.inverse_transform([prediction.argmax()])\n",
    "    return predicted_label[0]"
   ]
  },
  {
   "cell_type": "code",
   "execution_count": 1,
   "metadata": {},
   "outputs": [],
   "source": [
    "#masukkan teks disini\n",
    "new_text = 'Indonesia dan Irak sudah menjalani empat pertandingan di Kualifikasi Piala Dunia 2026. Hasilnya, tim asuhan Jesus Casas mampu selalu menang hingga mengumpulkan 12 poin, Indonesia mencatatkan tujuh poin hasil dari empat kali bertanding. Baca artikel sepakbola,Pertahanan Kukuh Irak Tantangan Berat buat Indonesia'"
   ]
  },
  {
   "cell_type": "code",
   "execution_count": 2,
   "metadata": {},
   "outputs": [
    {
     "ename": "NameError",
     "evalue": "name 'predict_topic' is not defined",
     "output_type": "error",
     "traceback": [
      "\u001b[1;31m---------------------------------------------------------------------------\u001b[0m",
      "\u001b[1;31mNameError\u001b[0m                                 Traceback (most recent call last)",
      "Cell \u001b[1;32mIn[2], line 2\u001b[0m\n\u001b[0;32m      1\u001b[0m \u001b[38;5;66;03m# deteksi topik teks\u001b[39;00m\n\u001b[1;32m----> 2\u001b[0m predicted_topic \u001b[38;5;241m=\u001b[39m \u001b[43mpredict_topic\u001b[49m(new_text, model, tokenizer, label_encoder, max_length)\n\u001b[0;32m      3\u001b[0m \u001b[38;5;28mprint\u001b[39m(\u001b[38;5;124mf\u001b[39m\u001b[38;5;124m'\u001b[39m\u001b[38;5;124mPredicted Topic: \u001b[39m\u001b[38;5;132;01m{\u001b[39;00mpredicted_topic\u001b[38;5;132;01m}\u001b[39;00m\u001b[38;5;124m'\u001b[39m)\n",
      "\u001b[1;31mNameError\u001b[0m: name 'predict_topic' is not defined"
     ]
    }
   ],
   "source": [
    "# deteksi topik teks\n",
    "predicted_topic = predict_topic(new_text, model, tokenizer, label_encoder, max_length)\n",
    "print(f'Predicted Topic: {predicted_topic}')"
   ]
  },
  {
   "cell_type": "markdown",
   "metadata": {},
   "source": [
    "# Plot"
   ]
  },
  {
   "cell_type": "code",
   "execution_count": 22,
   "metadata": {},
   "outputs": [
    {
     "data": {
      "image/png": "[encoded data removed]",
      "text/plain": [
       "<Figure size 640x480 with 1 Axes>"
      ]
     },
     "metadata": {},
     "output_type": "display_data"
    }
   ],
   "source": [
    "# Membuat plot akurasi\n",
    "plt.plot(history.history['accuracy'], label='Training Accuracy')\n",
    "plt.plot(history.history['val_accuracy'], label='Validation Accuracy')\n",
    "plt.title('Model Accuracy')\n",
    "plt.xlabel('Epoch')\n",
    "plt.ylabel('Accuracy')\n",
    "plt.legend(loc='lower right')\n",
    "plt.show()"
   ]
  },
  {
   "cell_type": "code",
   "execution_count": 23,
   "metadata": {},
   "outputs": [
    {
     "data": {
      "image/png": "[encoded data removed]",
      "text/plain": [
       "<Figure size 640x480 with 1 Axes>"
      ]
     },
     "metadata": {},
     "output_type": "display_data"
    }
   ],
   "source": [
    "# Membuat plot loss\n",
    "plt.plot(history.history['loss'], label='Training Loss')\n",
    "plt.plot(history.history['val_loss'], label='Validation Loss')\n",
    "plt.title('Model Loss')\n",
    "plt.xlabel('Epoch')\n",
    "plt.ylabel('Loss')\n",
    "plt.legend(loc='upper right')\n",
    "plt.show()"
   ]
  },
  {
   "cell_type": "code",
   "execution_count": null,
   "metadata": {},
   "outputs": [],
   "source": []
  }
 ],
 "metadata": {
  "colab": {
   "provenance": []
  },
  "kernelspec": {
   "display_name": "Python 3 (ipykernel)",
   "language": "python",
   "name": "python3"
  },
  "language_info": {
   "codemirror_mode": {
    "name": "ipython",
    "version": 3
   },
   "file_extension": ".py",
   "mimetype": "text/x-python",
   "name": "python",
   "nbconvert_exporter": "python",
   "pygments_lexer": "ipython3",
   "version": "3.11.9"
  }
 },
 "nbformat": 4,
 "nbformat_minor": 4
}
